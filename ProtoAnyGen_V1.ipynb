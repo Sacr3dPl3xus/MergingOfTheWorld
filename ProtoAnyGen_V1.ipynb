{
  "cells": [
    {
      "cell_type": "markdown",
      "source": [
        "# [ ProtoAnyGen_V1 - Merging of the World ]\n",
        "### Merging between ProtogenX V5.8 and Anygen V3.7 models.\n"
      ],
      "metadata": {
        "id": "141UWOoGnXq7"
      }
    },
    {
      "cell_type": "markdown",
      "source": [
        "# Install & Run ProtoAnyGen_V1\n",
        "\n",
        "**Run the cell below to :**\n",
        "- Clone AUTOMATIC1111 stable-diffusion-webui repo.\n",
        "- Clone & setup stable-diffusion-webui-images-browser inside stable-diffusion-webui repo.\n",
        "- Install needed dependecies.\n",
        "- Download all needed model.\n",
        "- Setup & Run the WebUI.\n",
        "\n",
        "**NOTE**: *Start the WebUI by clicking the \"gradio.app\" link.*"
      ],
      "metadata": {
        "id": "ghLSoCsrI-3B"
      }
    },
    {
      "cell_type": "code",
      "source": [
        "## Clone webui and install all dependencies.\n",
        "\n",
        "!git clone https://github.com/AUTOMATIC1111/stable-diffusion-webui\n",
        "!git clone https://github.com/yfszzx/stable-diffusion-webui-images-browser /content/stable-diffusion-webui/extensions/stable-diffusion-webui-images-browser\n",
        "%pip install -q https://github.com/nolanaatama/sd-webui/releases/download/xformers/xformers-0.0.15+e163309.d20230103-cp38-cp38-linux_x86_64.whl\n",
        "\n",
        "## Download all needed models.\n",
        "## NOTE: '.vae.pt' that can be used together with ProtoAnyGen.\n",
        "## Protogen:\n",
        "##  !curl -Lo protogenx5.8.vae.pt https://huggingface.co/stabilityai/sd-vae-ft-mse-original/resolve/main/vae-ft-mse-840000-ema-pruned.ckpt\n",
        "## Anygen:\n",
        "##  !curl -Lo anygenv3.7.vae.pt https://huggingface.co/nolanaatama/Anygen_v3.7/resolve/main/anygenz5.6.vae.pt\n",
        "\n",
        "!curl -Lo protoanygenv1.ckpt https://huggingface.co/Bienjie/ProtoAnyGen_V1/resolve/main/ProtoAnyGen_V1.ckpt\n",
        "!curl -Lo protoanygenv1.vae.pt https://huggingface.co/stabilityai/sd-vae-ft-mse-original/resolve/main/vae-ft-mse-840000-ema-pruned.ckpt\n",
        "\n",
        "## Move downloaded models to their proper working directory\n",
        "!mv \"/content/protoanygenv1.ckpt\" \"/content/stable-diffusion-webui/models/Stable-diffusion\"\n",
        "!mv \"/content/protoanygenv1.vae.pt\" \"/content/stable-diffusion-webui/models/Stable-diffusion\"\n",
        "\n",
        "## Run webui\n",
        "%cd /content/stable-diffusion-webui\n",
        "!git checkout 11d432d # temporary fix\n",
        "!COMMANDLINE_ARGS=\"--share --gradio-debug --medvram --disable-safe-unpickle --xformers\" REQS_FILE=\"requirements.txt\" python launch.py"
      ],
      "metadata": {
        "id": "IB-CPcXkJX_i"
      },
      "execution_count": null,
      "outputs": []
    },
    {
      "cell_type": "markdown",
      "source": [
        "**Run the cell below to :**\n",
        "- Rerun only the webui. (kind of resume last sessions) "
      ],
      "metadata": {
        "id": "aP-zg3MmBP85"
      }
    },
    {
      "cell_type": "code",
      "source": [
        "## Rerun without installing all the dependencies again. (assuming this session has not yet terminated)\n",
        "\n",
        "%cd /content/stable-diffusion-webui\n",
        "!git checkout 11d432d # temporary fix\n",
        "!COMMANDLINE_ARGS=\"--share --gradio-debug --medvram --disable-safe-unpickle --xformers\" REQS_FILE=\"requirements.txt\" python launch.py"
      ],
      "metadata": {
        "id": "HqrF49qdA_c6"
      },
      "execution_count": null,
      "outputs": []
    },
    {
      "cell_type": "markdown",
      "metadata": {
        "id": "fhwIXzcgfkoR"
      },
      "source": [
        "# **CREDIT**:\n",
        "\n",
        ".: **AUTOMATIC1111** :. ( *For their hardwork in making this beautiful tools for averyone* )\n",
        "- 📚 GitHub for more: [_@AUTOMATIC1111_](https://github.com/AUTOMATIC1111)\n",
        "- 📦 Repo: [Github](https://github.com/AUTOMATIC1111/stable-diffusion-webui)\n",
        "\n",
        "\n",
        ".: **nolanataama** :. ( *For providing 1-click colab notebook* )\n",
        "- 📚 GitHub for more: [_@nolanaatama_](https://github.com/nolanaatama)\n",
        "- 📦 Repo: [Github](https://github.com/nolanaatama/sd-1click-colab)"
      ]
    }
  ],
  "metadata": {
    "colab": {
      "provenance": []
    },
    "gpuClass": "standard",
    "kernelspec": {
      "display_name": "Python 3",
      "name": "python3"
    },
    "language_info": {
      "name": "python"
    },
    "accelerator": "GPU"
  },
  "nbformat": 4,
  "nbformat_minor": 0
}
